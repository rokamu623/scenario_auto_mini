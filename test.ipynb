{
 "cells": [
  {
   "cell_type": "code",
   "execution_count": 1,
   "metadata": {},
   "outputs": [
    {
     "name": "stdout",
     "output_type": "stream",
     "text": [
      "iooiooo\n",
      "oioiooo\n",
      "ooiiooo\n",
      "oooxiii\n",
      "oooiooo\n",
      "oooiooo\n",
      "oooiooo\n",
      "\n",
      "(3, 3)\n",
      "\n",
      "(0.0, -2.0)\n",
      "\n",
      "[(-2.0, 0.0), (1.0, 1.0)]\n",
      "\n"
     ]
    }
   ],
   "source": [
    "from src.map import Map\n",
    "from src.ego import Ego\n",
    "from src.npc import Npc_Car\n",
    "from src.yaml_exporter import YamlExporter\n",
    "\n",
    "map_path = './sample.map'\n",
    "m: Map = Map(map_path)\n",
    "m.display()\n",
    "print()\n",
    "\n",
    "pos: tuple[int, int] = m.search_crossroad()\n",
    "print(pos)\n",
    "print()\n",
    "\n",
    "ego: Ego = Ego()\n",
    "ego.pos = tuple([x + y for x, y in zip(pos, (0, 1))])\n",
    "ego.velocity = (0, -1)\n",
    "print(ego.velocity)\n",
    "print()\n",
    "\n",
    "npcs: list[Npc_Car] = []\n",
    "npc: Npc_Car = Npc_Car()\n",
    "npc.pos = tuple([x + y for x, y in zip(pos, (1, 0))])\n",
    "npc.velocity = (-1, 0)\n",
    "npcs.append(npc)\n",
    "npc: Npc_Car = Npc_Car()\n",
    "npc.pos = tuple([x + y for x, y in zip(pos, (-1, -1))])\n",
    "npc.velocity = (1, 1)\n",
    "npcs.append(npc)\n",
    "print([npc.velocity for npc in npcs])\n",
    "print()\n",
    "\n",
    "YamlExporter.export(map_path, ego, npcs)"
   ]
  }
 ],
 "metadata": {
  "kernelspec": {
   "display_name": "Python 3",
   "language": "python",
   "name": "python3"
  },
  "language_info": {
   "codemirror_mode": {
    "name": "ipython",
    "version": 3
   },
   "file_extension": ".py",
   "mimetype": "text/x-python",
   "name": "python",
   "nbconvert_exporter": "python",
   "pygments_lexer": "ipython3",
   "version": "3.10.11"
  }
 },
 "nbformat": 4,
 "nbformat_minor": 2
}
