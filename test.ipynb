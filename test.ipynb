{
 "cells": [
  {
   "cell_type": "code",
   "execution_count": 5,
   "metadata": {},
   "outputs": [
    {
     "name": "stdout",
     "output_type": "stream",
     "text": [
      "oooiooo\n",
      "oooiooo\n",
      "oooiooo\n",
      "iiixiii\n",
      "oooiooo\n",
      "oooiooo\n",
      "oooiooo\n",
      "\n",
      "(3, 3)\n",
      "\n",
      "(3, 4)\n",
      "\n"
     ]
    }
   ],
   "source": [
    "from src.map import Map\n",
    "from src.ego import Ego\n",
    "from src.npc import Npc_Car\n",
    "\n",
    "m: Map = Map('./sample.map')\n",
    "m.display()\n",
    "print()\n",
    "\n",
    "pos: tuple[int, int] = m.search_crossroad()\n",
    "print(pos)\n",
    "print()\n",
    "\n",
    "ego: Ego = Ego()\n",
    "ego.pos = tuple([x + y for x, y in zip(pos, (0, 1))])\n",
    "print(ego.pos)\n",
    "print()\n",
    "\n",
    "npcs: list[Npc_Car] = []"
   ]
  }
 ],
 "metadata": {
  "kernelspec": {
   "display_name": "Python 3",
   "language": "python",
   "name": "python3"
  },
  "language_info": {
   "codemirror_mode": {
    "name": "ipython",
    "version": 3
   },
   "file_extension": ".py",
   "mimetype": "text/x-python",
   "name": "python",
   "nbconvert_exporter": "python",
   "pygments_lexer": "ipython3",
   "version": "3.10.11"
  }
 },
 "nbformat": 4,
 "nbformat_minor": 2
}
