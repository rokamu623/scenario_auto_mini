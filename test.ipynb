{
 "cells": [
  {
   "cell_type": "code",
   "execution_count": 12,
   "metadata": {},
   "outputs": [
    {
     "ename": "ImportError",
     "evalue": "cannot import name 'Map' from 'map' (c:\\Users\\movie\\Desktop\\scenario_auto_mini\\map.py)",
     "output_type": "error",
     "traceback": [
      "\u001b[1;31m---------------------------------------------------------------------------\u001b[0m",
      "\u001b[1;31mImportError\u001b[0m                               Traceback (most recent call last)",
      "Cell \u001b[1;32mIn[12], line 1\u001b[0m\n\u001b[1;32m----> 1\u001b[0m \u001b[38;5;28;01mfrom\u001b[39;00m \u001b[38;5;21;01mmap\u001b[39;00m \u001b[38;5;28;01mimport\u001b[39;00m Map\n\u001b[0;32m      3\u001b[0m m \u001b[38;5;241m=\u001b[39m Map(\u001b[38;5;124m'\u001b[39m\u001b[38;5;124m./sample.map\u001b[39m\u001b[38;5;124m'\u001b[39m)\n\u001b[0;32m      4\u001b[0m m\u001b[38;5;241m.\u001b[39mdisplay()\n",
      "\u001b[1;31mImportError\u001b[0m: cannot import name 'Map' from 'map' (c:\\Users\\movie\\Desktop\\scenario_auto_mini\\map.py)"
     ]
    }
   ],
   "source": [
    "from map import Map\n",
    "\n",
    "m = Map('./sample.map')\n",
    "m.display()"
   ]
  }
 ],
 "metadata": {
  "kernelspec": {
   "display_name": "Python 3",
   "language": "python",
   "name": "python3"
  },
  "language_info": {
   "codemirror_mode": {
    "name": "ipython",
    "version": 3
   },
   "file_extension": ".py",
   "mimetype": "text/x-python",
   "name": "python",
   "nbconvert_exporter": "python",
   "pygments_lexer": "ipython3",
   "version": "3.10.11"
  }
 },
 "nbformat": 4,
 "nbformat_minor": 2
}
